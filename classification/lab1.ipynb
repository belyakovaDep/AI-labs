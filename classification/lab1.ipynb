{
 "cells": [
  {
   "cell_type": "code",
   "execution_count": null,
   "metadata": {},
   "outputs": [],
   "source": [
    "import torch\n",
    "import torch.nn as nn\n",
    "import torch.nn.functional as f\n",
    "import torchvision as tv\n",
    "import torchvision.transforms as tf\n",
    "#import numpy\n",
    "\n",
    "batch = 32\n",
    "model = tv.models.resnet34(pretrained = True)\n",
    "\n",
    "device = torch.device('cuda' if torch.cuda.is_available() else 'cpu')\n",
    "transform = tf.Compose([tf.Resize(256), tf.ToTensor(),\n",
    "                        tf.Normalize(mean = [0.5, 0.5, 0.5], std = [0.225, 0.225, 0.225]), \n",
    "                        tf.CenterCrop(224)])\n",
    "\n",
    "orgset = tv.datasets.ImageFolder('./simpsons_dataset', transform = transform)\n",
    "n = len(orgset)\n",
    "test_n = int(0.1 * n) \n",
    "train_n = n - test_n\n",
    "\n",
    "classes = orgset.classes\n",
    "train_set, test_set = torch.utils.data.random_split(orgset, [train_n, test_n])\n",
    "\n",
    "train_loader = torch.utils.data.DataLoader(train_set, batch_size=batch, shuffle=True, num_workers=4)\n",
    "test_loader = torch.utils.data.DataLoader(test_set, batch_size=batch, shuffle=True, num_workers=4)\n",
    "\n",
    "model.fc = nn.Linear(model.fc.in_features, 42, bias = True)\n",
    "loss_f = nn.CrossEntropyLoss()\n",
    "optimizer = torch.optim.SGD(model.parameters(), lr = 0.001, momentum=0.86)\n",
    "model.to(device)"
   ]
  },
  {
   "cell_type": "code",
   "execution_count": 2,
   "metadata": {},
   "outputs": [
    {
     "name": "stdout",
     "output_type": "stream",
     "text": [
      "epoch:  0 \n",
      " accuracy:  89.44099378881988 \n",
      "\n",
      "epoch:  1 \n",
      " accuracy:  92.73769708552317 \n",
      "\n",
      "epoch:  2 \n",
      " accuracy:  93.7888198757764 \n",
      "\n",
      "epoch:  3 \n",
      " accuracy:  94.83994266602963 \n",
      "\n",
      "epoch:  4 \n",
      " accuracy:  94.696607740086 \n",
      "\n"
     ]
    }
   ],
   "source": [
    "for epoch in range(5):\n",
    "    run_loss = 0.0\n",
    "    correct = 0\n",
    "    total = 0\n",
    "\n",
    "    for inputs, labels in train_loader:\n",
    "        inputs, labels = inputs.to(device), labels.to(device)\n",
    "        outputs  = model(inputs)\n",
    "        loss = loss_f(outputs, labels)\n",
    "        loss.backward()\n",
    "        optimizer.step()\n",
    "        optimizer.zero_grad()\n",
    "        run_loss += loss.item()\n",
    "\n",
    "    with torch.no_grad():\n",
    "        for images, labels in test_loader:\n",
    "            images, labels = images.to(device), labels.to(device)\n",
    "\n",
    "            outputs = model(images)\n",
    "            _, predicted = torch.max(outputs.data, 1)\n",
    "            total += labels.size(0)\n",
    "            correct += (labels == predicted).sum().item()\n",
    "\n",
    "    print('epoch: ', epoch, '\\n', 'accuracy: ', 100*correct/total, '\\n')"
   ]
  },
  {
   "cell_type": "code",
   "execution_count": 4,
   "metadata": {},
   "outputs": [],
   "source": [
    "torch.save({'train_indices': train_set.indices,\n",
    "            'test_indices': test_set.indices}, \n",
    "            'split_indices.pth')\n",
    "\n",
    "\n",
    "PATH = './my_model.pth'\n",
    "torch.save(model.state_dict(), PATH)"
   ]
  },
  {
   "cell_type": "code",
   "execution_count": 5,
   "metadata": {},
   "outputs": [
    {
     "name": "stdout",
     "output_type": "stream",
     "text": [
      "accuracy:  95.31772575250837 \n",
      "\n"
     ]
    }
   ],
   "source": [
    "with torch.no_grad():\n",
    "        for images, labels in test_loader:\n",
    "            images, labels = images.to(device), labels.to(device)\n",
    "\n",
    "            outputs = model(images)\n",
    "            _, predicted = torch.max(outputs.data, 1)\n",
    "            total += labels.size(0)\n",
    "            correct += (labels == predicted).sum().item()\n",
    "\n",
    "print('accuracy: ', 100*correct/total, '\\n')"
   ]
  }
 ],
 "metadata": {
  "kernelspec": {
   "display_name": "Python 3",
   "language": "python",
   "name": "python3"
  },
  "language_info": {
   "codemirror_mode": {
    "name": "ipython",
    "version": 3
   },
   "file_extension": ".py",
   "mimetype": "text/x-python",
   "name": "python",
   "nbconvert_exporter": "python",
   "pygments_lexer": "ipython3",
   "version": "3.10.0"
  }
 },
 "nbformat": 4,
 "nbformat_minor": 2
}
