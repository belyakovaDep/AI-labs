{
  "nbformat": 4,
  "nbformat_minor": 0,
  "metadata": {
    "colab": {
      "provenance": []
    },
    "kernelspec": {
      "name": "python3",
      "display_name": "Python 3"
    },
    "language_info": {
      "name": "python"
    }
  },
  "cells": [
    {
      "cell_type": "code",
      "execution_count": 41,
      "metadata": {
        "id": "WTYtmpyvfDgf"
      },
      "outputs": [],
      "source": [
        "import os, cv2\n",
        "import numpy as np\n",
        "import pandas as pd\n",
        "import random, tqdm\n",
        "import seaborn as sns\n",
        "import matplotlib.pyplot as plt\n",
        "%matplotlib inline\n",
        "\n",
        "import warnings\n",
        "warnings.filterwarnings(\"ignore\")\n",
        "\n",
        "import torch\n",
        "import torch.nn as nn\n",
        "from torch.utils.data import DataLoader\n",
        "import albumentations as album\n",
        "import segmentation_models_pytorch as smp"
      ]
    },
    {
      "cell_type": "code",
      "source": [
        "from segmentation_models_pytorch import utils as smpu"
      ],
      "metadata": {
        "id": "66gkvqe75yGV"
      },
      "execution_count": 52,
      "outputs": []
    },
    {
      "cell_type": "code",
      "source": [
        "DATA_DIR = './massachusetts-roads-dataset/tiff/'\n",
        "x_train_dir = os.path.join(DATA_DIR, 'train')\n",
        "y_train_dir = os.path.join(DATA_DIR, 'train_labels')\n",
        "\n",
        "x_valid_dir = os.path.join(DATA_DIR, 'val')\n",
        "y_valid_dir = os.path.join(DATA_DIR, 'val_labels')\n",
        "\n",
        "x_test_dir = os.path.join(DATA_DIR, 'test')\n",
        "y_test_dir = os.path.join(DATA_DIR, 'test_labels')\n",
        "\n",
        "class_dict = pd.read_csv(\"./massachusetts-roads-dataset/label_class_dict.csv\")\n",
        "class_names = class_dict['name'].tolist()\n",
        "class_rgb_values = class_dict[['r','g','b']].values.tolist()\n",
        "\n",
        "select_classes = ['background', 'road']\n",
        "\n",
        "select_class_indices = [class_names.index(cls.lower()) for cls in select_classes]\n",
        "select_class_rgb_values =  np.array(class_rgb_values)[select_class_indices]"
      ],
      "metadata": {
        "id": "CDF6sloKhUpx"
      },
      "execution_count": 42,
      "outputs": []
    },
    {
      "cell_type": "code",
      "source": [
        "def visualize(**images):\n",
        "    n_images = len(images)\n",
        "    plt.figure(figsize=(20,8))\n",
        "    for idx, (name, image) in enumerate(images.items()):\n",
        "        plt.subplot(1, n_images, idx + 1)\n",
        "        plt.xticks([]);\n",
        "        plt.yticks([])\n",
        "        plt.title(name.replace('_',' ').title(), fontsize=20)\n",
        "        plt.imshow(image)\n",
        "    plt.show()"
      ],
      "metadata": {
        "id": "GpNaXKsgys_Z"
      },
      "execution_count": 43,
      "outputs": []
    },
    {
      "cell_type": "code",
      "source": [
        "def one_hot_encode(label, label_values):\n",
        "  semantic_map = []\n",
        "  for colour in label_values:\n",
        "      equality = np.equal(label, colour)\n",
        "      class_map = np.all(equality, axis = -1)\n",
        "      semantic_map.append(class_map)\n",
        "  semantic_map = np.stack(semantic_map, axis=-1)\n",
        "\n",
        "  return semantic_map\n",
        "\n",
        "def reverse_one_hot(image):\n",
        "  x = np.argmax(image, axis = -1)\n",
        "  return x\n",
        "\n",
        "def colour_code_segmentation(image, label_values):\n",
        "  colour_codes = np.array(label_values)\n",
        "  x = colour_codes[image.astype(int)]\n",
        "\n",
        "  return x"
      ],
      "metadata": {
        "id": "qoOnf4kSjacG"
      },
      "execution_count": 44,
      "outputs": []
    },
    {
      "cell_type": "code",
      "source": [
        "def get_training_augmentation():\n",
        "    train_transform = [\n",
        "        album.RandomCrop(height=256, width=256, always_apply=True),\n",
        "        album.OneOf([album.HorizontalFlip(p=1),\n",
        "                     album.VerticalFlip(p=1),\n",
        "                     album.RandomRotate90(p=1)],\n",
        "                     p=0.75)]\n",
        "\n",
        "    return album.Compose(train_transform)\n",
        "\n",
        "def get_validation_augmentation():\n",
        "    test_transform = [album.PadIfNeeded(min_height=1536, min_width=1536, always_apply=True, border_mode=0)]\n",
        "\n",
        "    return album.Compose(test_transform)\n",
        "\n",
        "def to_tensor(x, **kwargs):\n",
        "    return x.transpose(2, 0, 1).astype('float32')\n",
        "\n",
        "\n",
        "def get_preprocessing(preprocessing_fn=None):\n",
        "    _transform = []\n",
        "\n",
        "    if preprocessing_fn:\n",
        "        _transform.append(album.Lambda(image=preprocessing_fn))\n",
        "    _transform.append(album.Lambda(image=to_tensor, mask=to_tensor))\n",
        "\n",
        "    return album.Compose(_transform)"
      ],
      "metadata": {
        "id": "efq_2a9O1Cvx"
      },
      "execution_count": 45,
      "outputs": []
    },
    {
      "cell_type": "code",
      "source": [
        "class RoadsDataset(torch.utils.data.Dataset):\n",
        "\n",
        "  def __init__(self, images_dir, masks_dir, class_rgb_values=None,\n",
        "               augmentation=None, preprocessing=None):\n",
        "    self.image_paths = [os.path.join(images_dir, image_id) for image_id in sorted(os.listdir(images_dir))]\n",
        "    self.mask_paths = [os.path.join(masks_dir, image_id) for image_id in sorted(os.listdir(masks_dir))]\n",
        "    self.class_rgb_values = class_rgb_values\n",
        "    self.augmentation = augmentation\n",
        "    self.preprocessing = preprocessing\n",
        "\n",
        "  def __getitem__(self, i):\n",
        "    image = cv2.cvtColor(cv2.imread(self.image_paths[i]), cv2.COLOR_BGR2RGB)\n",
        "    mask = cv2.cvtColor(cv2.imread(self.mask_paths[i]), cv2.COLOR_BGR2RGB)\n",
        "    mask = one_hot_encode(mask, self.class_rgb_values).astype('float')\n",
        "\n",
        "    if self.augmentation:\n",
        "            sample = self.augmentation(image=image, mask=mask)\n",
        "            image, mask = sample['image'], sample['mask']\n",
        "\n",
        "    if self.preprocessing:\n",
        "            sample = self.preprocessing(image=image, mask=mask)\n",
        "            image, mask = sample['image'], sample['mask']\n",
        "\n",
        "    return image, mask\n",
        "\n",
        "  def __len__(self):\n",
        "        return len(self.image_paths)\n"
      ],
      "metadata": {
        "id": "nVi1cxf-xc-N"
      },
      "execution_count": 46,
      "outputs": []
    },
    {
      "cell_type": "code",
      "source": [
        "ENCODER = 'resnet50'\n",
        "ENCODER_WEIGHTS = 'imagenet'\n",
        "CLASSES = select_classes\n",
        "ACTIVATION = 'sigmoid'\n",
        "\n",
        "model = smp.Unet(\n",
        "    encoder_name=ENCODER,\n",
        "    encoder_weights=ENCODER_WEIGHTS,\n",
        "    classes=len(CLASSES),\n",
        "    activation=ACTIVATION,\n",
        ")\n",
        "\n",
        "preprocessing_fn = smp.encoders.get_preprocessing_fn(ENCODER, ENCODER_WEIGHTS)"
      ],
      "metadata": {
        "id": "hxchxi7720c9"
      },
      "execution_count": 47,
      "outputs": []
    },
    {
      "cell_type": "code",
      "source": [
        "train_dataset = RoadsDataset(x_train_dir, y_train_dir,\n",
        "                             augmentation=get_training_augmentation(),\n",
        "                             preprocessing=get_preprocessing(preprocessing_fn),\n",
        "                             class_rgb_values=select_class_rgb_values)\n",
        "\n",
        "valid_dataset = RoadsDataset(x_valid_dir, y_valid_dir,\n",
        "                             augmentation=get_validation_augmentation(),\n",
        "                             preprocessing=get_preprocessing(preprocessing_fn),\n",
        "                             class_rgb_values=select_class_rgb_values)\n",
        "\n",
        "train_loader = DataLoader(train_dataset, batch_size=16, shuffle=True, num_workers=4)\n",
        "valid_loader = DataLoader(valid_dataset, batch_size=1, shuffle=False, num_workers=4)"
      ],
      "metadata": {
        "id": "d5T2_MEn3i0R"
      },
      "execution_count": 48,
      "outputs": []
    },
    {
      "cell_type": "code",
      "source": [
        "TRAINING = True\n",
        "EPOCHS = 5\n",
        "DEVICE = torch.device(\"cuda\" if torch.cuda.is_available() else \"cpu\")\n",
        "print(DEVICE)\n",
        "\n",
        "loss = smpu.losses.DiceLoss()\n",
        "metrics = [smp.utils.metrics.IoU(threshold=0.5)]\n",
        "optimizer = torch.optim.Adam([ dict(params=model.parameters(), lr=0.00008)])\n",
        "\n",
        "lr_scheduler = torch.optim.lr_scheduler.CosineAnnealingWarmRestarts(optimizer, T_0=1, T_mult=2, eta_min=5e-5)\n",
        "\n",
        "if os.path.exists('../input/unet-resnet50-frontend-road-segmentation-pytorch/best_model.pth'):\n",
        "    model = torch.load('../input/unet-resnet50-frontend-road-segmentation-pytorch/best_model.pth', map_location=DEVICE)"
      ],
      "metadata": {
        "colab": {
          "base_uri": "https://localhost:8080/"
        },
        "id": "bPUgC6Hj5NyJ",
        "outputId": "bede0b07-1446-4435-a04a-9965790a2775"
      },
      "execution_count": 57,
      "outputs": [
        {
          "output_type": "stream",
          "name": "stdout",
          "text": [
            "cpu\n"
          ]
        }
      ]
    },
    {
      "cell_type": "code",
      "source": [
        "train_epoch = smp.utils.train.TrainEpoch(model, loss=loss, metrics=metrics,\n",
        "                                         optimizer=optimizer, device=DEVICE,\n",
        "                                         verbose=True)\n",
        "\n",
        "valid_epoch = smp.utils.train.ValidEpoch(model, loss=loss, metrics=metrics,\n",
        "                                         device=DEVICE, verbose=True)"
      ],
      "metadata": {
        "id": "E1_7YBI_6YZ_"
      },
      "execution_count": 54,
      "outputs": []
    },
    {
      "cell_type": "code",
      "source": [
        "%%time\n",
        "\n",
        "if TRAINING:\n",
        "\n",
        "    best_iou_score = 0.0\n",
        "    train_logs_list, valid_logs_list = [], []\n",
        "\n",
        "    for i in range(0, EPOCHS):\n",
        "        print('\\nEpoch: {}'.format(i))\n",
        "        train_logs = train_epoch.run(train_loader)\n",
        "        valid_logs = valid_epoch.run(valid_loader)\n",
        "        train_logs_list.append(train_logs)\n",
        "        valid_logs_list.append(valid_logs)\n",
        "\n",
        "        if best_iou_score < valid_logs['iou_score']:\n",
        "            best_iou_score = valid_logs['iou_score']\n",
        "            torch.save(model, './best_model.pth')\n",
        "            print('Model saved!')"
      ],
      "metadata": {
        "id": "CjWCjoaW6x4Z"
      },
      "execution_count": null,
      "outputs": []
    },
    {
      "cell_type": "code",
      "source": [
        "test_dataset = RoadsDataset(\n",
        "    x_test_dir,\n",
        "    y_test_dir,\n",
        "    augmentation=get_validation_augmentation(),\n",
        "    preprocessing=get_preprocessing(preprocessing_fn),\n",
        "    class_rgb_values=select_class_rgb_values,\n",
        ")\n",
        "\n",
        "test_dataloader = DataLoader(test_dataset)\n",
        "\n",
        "test_dataset_vis = RoadsDataset(\n",
        "    x_test_dir, y_test_dir,\n",
        "    augmentation=get_validation_augmentation(),\n",
        "    class_rgb_values=select_class_rgb_values,\n",
        ")\n",
        "\n",
        "def crop_image(image, target_image_dims=[1500,1500,3]):\n",
        "\n",
        "    target_size = target_image_dims[0]\n",
        "    image_size = len(image)\n",
        "    padding = (image_size - target_size) // 2\n",
        "\n",
        "    if padding<0:\n",
        "        return image\n",
        "\n",
        "    return image[\n",
        "        padding:image_size - padding,\n",
        "        padding:image_size - padding,\n",
        "        :,\n",
        "    ]\n",
        "\n",
        "sample_preds_folder = 'sample_predictions/'\n",
        "if not os.path.exists(sample_preds_folder):\n",
        "  os.makedirs(sample_preds_folder)"
      ],
      "metadata": {
        "id": "T4xfyle672v3"
      },
      "execution_count": 56,
      "outputs": []
    },
    {
      "cell_type": "code",
      "source": [
        "for idx in range(len(test_dataset)):\n",
        "\n",
        "    image, gt_mask = test_dataset[idx]\n",
        "    image_vis = crop_image(test_dataset_vis[idx][0].astype('uint8'))\n",
        "    x_tensor = torch.from_numpy(image).to(DEVICE).unsqueeze(0)\n",
        "    # Predict test image\n",
        "    pred_mask = model(x_tensor)\n",
        "    if idx % 7 == 0:\n",
        "      pred_mask = pred_mask.detach().squeeze().cpu().numpy()\n",
        "      # Convert pred_mask from `CHW` format to `HWC` format\n",
        "      pred_mask = np.transpose(pred_mask,(1,2,0))\n",
        "      # Get prediction channel corresponding to road\n",
        "      pred_road_heatmap = pred_mask[:,:,select_classes.index('road')]\n",
        "      pred_mask = crop_image(colour_code_segmentation(reverse_one_hot(pred_mask), select_class_rgb_values))\n",
        "      # Convert gt_mask from `CHW` format to `HWC` format\n",
        "      gt_mask = np.transpose(gt_mask,(1,2,0))\n",
        "      gt_mask = crop_image(colour_code_segmentation(reverse_one_hot(gt_mask), select_class_rgb_values))\n",
        "      cv2.imwrite(os.path.join(sample_preds_folder, f\"sample_pred_{idx}.png\"), np.hstack([image_vis, gt_mask, pred_mask])[:,:,::-1])\n",
        "\n",
        "      visualize(\n",
        "          original_image = image_vis,\n",
        "          ground_truth_mask = gt_mask,\n",
        "          predicted_mask = pred_mask,\n",
        "          predicted_road_heatmap = pred_road_heatmap\n",
        "      )"
      ],
      "metadata": {
        "id": "d9ROfofq8cjr"
      },
      "execution_count": null,
      "outputs": []
    }
  ]
}